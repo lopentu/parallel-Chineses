{
 "cells": [
  {
   "cell_type": "code",
   "execution_count": 1,
   "metadata": {},
   "outputs": [],
   "source": [
    "%load_ext autoreload\n",
    "%autoreload 2\n",
    "%matplotlib inline"
   ]
  },
  {
   "cell_type": "code",
   "execution_count": 2,
   "metadata": {
    "collapsed": true
   },
   "outputs": [],
   "source": [
    "import re\n",
    "import csv\n",
    "import glob\n",
    "import numpy as np\n",
    "import matplotlib.pyplot as plt\n",
    "import tensorflow as tf\n",
    "import jieba\n",
    "# LingPlus is available from https://github.com/seantyh/LingPlus\n",
    "from LingPlus import nb\n",
    "\n",
    "from sklearn.feature_extraction.text import CountVectorizer\n",
    "from sklearn.preprocessing import LabelBinarizer\n",
    "from sklearn.model_selection import train_test_split\n",
    "from sklearn.metrics import accuracy_score, recall_score, precision_score, f1_score\n",
    "from sklearn.metrics import confusion_matrix"
   ]
  },
  {
   "cell_type": "markdown",
   "metadata": {},
   "source": [
    "# Content\n",
    "## [Preprocessing](#preproc)\n",
    "## [Train-Test Split](#ttsplit)\n",
    "## [Tuning](#tuning)\n",
    "## [Evaluation](#eval)"
   ]
  },
  {
   "cell_type": "code",
   "execution_count": 3,
   "metadata": {
    "collapsed": true
   },
   "outputs": [],
   "source": [
    "def load_csv(fpath):\n",
    "    fin = open(fpath, \"r\", encoding=\"UTF-8\")\n",
    "    csvreader = csv.reader(fin)\n",
    "    next(csvreader)\n",
    "    data = []\n",
    "    for row in csvreader:\n",
    "        data.append(row)\n",
    "    return data"
   ]
  },
  {
   "cell_type": "code",
   "execution_count": 4,
   "metadata": {},
   "outputs": [],
   "source": [
    "data = []\n",
    "for fpath in glob.glob(\"data/proc/*.csv\"):    \n",
    "    data += load_csv(fpath)"
   ]
  },
  {
   "cell_type": "code",
   "execution_count": 5,
   "metadata": {},
   "outputs": [
    {
     "name": "stdout",
     "output_type": "stream",
     "text": [
      "TW items:  6572\n",
      "CN items:  7049\n"
     ]
    }
   ],
   "source": [
    "nTW = len([x for x in data if x[1] == \"TW\"])\n",
    "nCN = len([x for x in data if x[1] == \"CN\"])\n",
    "print(\"TW items: \", nTW)\n",
    "print(\"CN items: \", nCN)"
   ]
  },
  {
   "cell_type": "markdown",
   "metadata": {},
   "source": [
    "<a id=\"preproc\"></a>\n",
    "# Preprocess data"
   ]
  },
  {
   "cell_type": "code",
   "execution_count": 6,
   "metadata": {},
   "outputs": [
    {
     "name": "stderr",
     "output_type": "stream",
     "text": [
      "Building prefix dict from E:\\Dropbox\\Dropbox\\Kyle\\LingNLP\\Week5\\data\\as_jieba.txt ...\n",
      "Loading model from cache C:\\Users\\Sean\\AppData\\Local\\Temp\\jieba.u819fa9d31ffde37e51acb08492816972.cache\n",
      "Loading model cost 0.255 seconds.\n",
      "Prefix dict has been built succesfully.\n"
     ]
    }
   ],
   "source": [
    "jieba.set_dictionary(\"data/as_jieba.txt\")\n",
    "san_pat = re.compile(\"[\\u3400-\\u9fff\\uf900-\\ufaffa-zA-Z0-9]\")\n",
    "import pdb\n",
    "def do_tokenize(srt_item):    \n",
    "    srt_tokens = srt_item\n",
    "    if not isinstance(srt_item[2], str):        \n",
    "        return srt_item\n",
    "    tok_iter = map(lambda x: x.group(), san_pat.finditer(srt_item[2]))\n",
    "    srt_tokens[2] = \"\".join(tok_iter)\n",
    "    return srt_tokens\n",
    "\n",
    "def do_segment(srt_item):    \n",
    "    seg_item = srt_item\n",
    "    seg_item[2] = list(jieba.cut(srt_item[2]))\n",
    "    return seg_item\n",
    "\n",
    "srt_data = map(do_tokenize, data)\n",
    "srt_data = map(do_segment, srt_data)\n",
    "srt_data = list(srt_data)"
   ]
  },
  {
   "cell_type": "code",
   "execution_count": 7,
   "metadata": {},
   "outputs": [
    {
     "name": "stdout",
     "output_type": "stream",
     "text": [
      "[['1', 'TW', ['銀行']], ['2', 'TW', ['現在', '播放', '喇叭褲']], ['3', 'TW', ['手', '舉高']], ['4', 'TW', ['趴', '在', '地', '上']], ['5', 'TW', ['給我', '趴', '在', '地', '上', '趴下']], ['6', 'TW', ['趴下', '不準動']], ['7', 'TW', ['快']], ['8', 'TW', ['快點']], ['9', 'TW', ['通通', '不準動']], ['10', 'TW', ['趴下']]]\n",
      "[['1011', 'TW', ['他', '在', '98', '年', '逮過', '我']], ['1012', 'TW', ['你們', '打炮', '不', '戴套', '是', '你', '傢', '的', '事']], ['1013', 'TW', ['要是', '有', '人', '想', '幹掉', '我', '我會', '抓狂']], ['1014', 'TW', ['抓住', '他']], ['1015', 'TW', ['寶貝', '別', '讓', '他', '跑', '瞭']], ['1016', 'TW', ['快想', '辦法']], ['1017', 'TW', ['媽', '的']], ['1018', 'TW', ['載', '我們', '離開', '快', '閃']], ['1019', 'TW', ['我們', '走', '快點']], ['1020', 'TW', ['龍舌蘭']]]\n",
      "[['516', 'CN', ['我們', '能', '有', '今天', '這樣', '的', '成績', '最', '主要', '是', '因', '爲']], ['517', 'CN', ['對公', '衆', '而言', '我們', '是', '不', '存在', '的']], ['518', 'CN', ['如果', '這個', '視頻', '暗示', '甚至', '直接', '提到', '了', '我們']], ['519', 'CN', ['爲', '了', '所有', '客戶', '的', '利益', '考慮']], ['520', 'CN', ['我', '就', '不能', '讓', '它', '公之', '於', '衆']], ['521', 'CN', ['你', '以前', '叮囑', '我', '辦事', '要', '走', '正常', '程序']], ['522', 'CN', ['佐布里斯特', '先生', '像是', '什麼', '正常', '客戶', '嗎']], ['523', 'CN', ['這個麼', '這也', '是', '感嘆', '罷了', '把', '視頻', '拿給', '我']], ['524', 'CN', ['意大利', '佛羅倫薩', '馬基', '雅維利', '大道', '上午', '836']], ['525', 'CN', ['維奇', '奧宮', '五百', '人', '大廳', '裏', '有', '幅', '著名', '的', '壁畫']]]\n",
      "[['1963', 'CN', ['你', '當時', '害怕', '嗎']], ['1964', 'CN', ['我', '肯定', '在', '你', '的', '老朋友', '蜘蛛', '俠']], ['1965', 'CN', ['出現', '在', '那台', '電梯', '里', '時', '你', '很', '高興', '對', '嗎']], ['1966', 'CN', ['是', '的', '其實', '我並', '沒有', '上去']], ['1967', 'CN', ['我', '在', '樓下', '目睹', '了', '那', '一切']], ['1968', 'CN', ['沒錯']], ['1969', 'CN', ['他', '那天', '在', '那裡', '真是', '件', '幸事']], ['1970', 'CN', ['蜘蛛', '俠', '真是', '了不起']], ['1971', 'CN', ['爸爸', '綠燈', '亮', '了']], ['1972', 'CN', ['我們', '到', '了', '你們', '該', '下車', '了']]]\n"
     ]
    }
   ],
   "source": [
    "print(srt_data[0:10])\n",
    "print(srt_data[1010:1020])\n",
    "print(srt_data[5010:5020])\n",
    "print(srt_data[8010:8020])"
   ]
  },
  {
   "cell_type": "code",
   "execution_count": 8,
   "metadata": {},
   "outputs": [
    {
     "name": "stdout",
     "output_type": "stream",
     "text": [
      "Vocabulary generated by CountVectorizer:  9313\n"
     ]
    }
   ],
   "source": [
    "vec = CountVectorizer(analyzer=lambda x: x, tokenizer=lambda x: x) \n",
    "lbin = LabelBinarizer()\n",
    "\n",
    "tag_vec = np.array([x[1] for x in srt_data])\n",
    "lbin.fit(tag_vec)\n",
    "text_mat = vec.fit_transform([x[2] for x in srt_data])\n",
    "print(\"Vocabulary generated by CountVectorizer: \", len(vec.vocabulary_))"
   ]
  },
  {
   "cell_type": "markdown",
   "metadata": {},
   "source": [
    "<a id=\"ttsplit\"></a>\n",
    "# Train-Test data split"
   ]
  },
  {
   "cell_type": "code",
   "execution_count": 9,
   "metadata": {},
   "outputs": [
    {
     "name": "stdout",
     "output_type": "stream",
     "text": [
      "Verify numbers of tag classes are comparable: \n",
      "train TW: 0.80, CN: 0.80\n"
     ]
    }
   ],
   "source": [
    "train_x, test_x, train_y, test_y = train_test_split(text_mat, tag_vec, test_size=0.2, random_state=12)\n",
    "print(\"Verify numbers of tag classes are comparable: \")\n",
    "print(\"train TW: %.2f, CN: %.2f\" % ((train_y==\"TW\").sum() / nTW, (train_y==\"CN\").sum() / nCN))"
   ]
  },
  {
   "cell_type": "markdown",
   "metadata": {},
   "source": [
    "<a id=\"tuning\"></a>\n",
    "# K-Fold(Stratified) model tuning"
   ]
  },
  {
   "cell_type": "code",
   "execution_count": 10,
   "metadata": {},
   "outputs": [
    {
     "name": "stdout",
     "output_type": "stream",
     "text": [
      "--- Smooth alpha: 0.000000 ---\n",
      "Accuracy average: 0.5896\n",
      "--- Smooth alpha: 0.100000 ---\n",
      "Accuracy average: 0.6255\n",
      "--- Smooth alpha: 0.500000 ---\n",
      "Accuracy average: 0.6311\n",
      "--- Smooth alpha: 1.000000 ---\n",
      "Accuracy average: 0.6354\n",
      "--- Smooth alpha: 2.000000 ---\n",
      "Accuracy average: 0.6373\n",
      "--- Smooth alpha: 4.000000 ---\n",
      "Accuracy average: 0.6326\n"
     ]
    }
   ],
   "source": [
    "sm_list = [0, 0.1,0.5,1,2,4]\n",
    "sm_acc = []\n",
    "for sm_alpha in sm_list:\n",
    "    print(\"--- Smooth alpha: %f ---\" % sm_alpha)    \n",
    "    acc = nb.smooth_selection(sm_alpha, train_x, train_y)\n",
    "    sm_acc.append(acc)\n"
   ]
  },
  {
   "cell_type": "code",
   "execution_count": 11,
   "metadata": {},
   "outputs": [
    {
     "data": {
      "text/plain": [
       "[<matplotlib.lines.Line2D at 0x1ea2819f400>]"
      ]
     },
     "execution_count": 11,
     "metadata": {},
     "output_type": "execute_result"
    },
    {
     "data": {
      "image/png": "[encoded data removed]",
      "text/plain": [
       "<matplotlib.figure.Figure at 0x1ea255eaa20>"
      ]
     },
     "metadata": {},
     "output_type": "display_data"
    }
   ],
   "source": [
    "plt.plot(sm_list, sm_acc, '-o')"
   ]
  },
  {
   "cell_type": "markdown",
   "metadata": {},
   "source": [
    "<a id=\"eval\"></a>\n",
    "# Model Evaluation with Test Data"
   ]
  },
  {
   "cell_type": "code",
   "execution_count": 12,
   "metadata": {},
   "outputs": [
    {
     "name": "stdout",
     "output_type": "stream",
     "text": [
      "['CN' 'TW']\n",
      "Accuracy: 0.64, Precision: 0.68, Recall: 0.52, F1: 0.59\n"
     ]
    }
   ],
   "source": [
    "# model training\n",
    "enc_train_y = lbin.transform(train_y)\n",
    "pY = enc_train_y.sum() / len(enc_train_y)\n",
    "with tf.Graph().as_default() as g:\n",
    "    model = nb.train(train_x, enc_train_y,\n",
    "                    pY_prior=pY, smooth_alpha=2)\n",
    "\n",
    "# model testing\n",
    "with tf.Graph().as_default() as g:\n",
    "    test_pred_vec = nb.predict(model, test_x)\n",
    "    \n",
    "test_pred_y = lbin.inverse_transform(np.array(test_pred_vec))\n",
    "acc = accuracy_score(test_y, test_pred_y)\n",
    "prec = precision_score(test_y, test_pred_y, pos_label=\"TW\")\n",
    "recall = recall_score(test_y, test_pred_y, pos_label=\"TW\")\n",
    "f1 = f1_score(test_y, test_pred_y, pos_label=\"TW\")\n",
    "    \n",
    "print(lbin.classes_)\n",
    "print(\"Accuracy: %.2f, Precision: %.2f, Recall: %.2f, F1: %.2f\" \n",
    "      % (acc, prec, recall, f1))\n"
   ]
  },
  {
   "cell_type": "code",
   "execution_count": 13,
   "metadata": {},
   "outputs": [
    {
     "data": {
      "text/plain": [
       "array([[1046,  335],\n",
       "       [ 643,  701]], dtype=int64)"
      ]
     },
     "execution_count": 13,
     "metadata": {},
     "output_type": "execute_result"
    }
   ],
   "source": [
    "confusion_matrix(test_y, test_pred_y)"
   ]
  },
  {
   "cell_type": "markdown",
   "metadata": {},
   "source": [
    "# Discussion\n",
    "\n",
    "* Final model has accuracy of 64%, F1-score is 0.59.\n",
    "* Performance may be better if using tf-idf when generating word features.\n",
    "* Segmentation was still an issue, since no special care was taken when segmenting China subtitles.\n",
    "* Word encoder in preprocessing step used whole data to calculate vocabulary. It should honor the train-test data split next time, where vocabulary is only built from training data."
   ]
  }
 ],
 "metadata": {
  "kernelspec": {
   "display_name": "Python 3",
   "language": "python",
   "name": "python3"
  },
  "language_info": {
   "codemirror_mode": {
    "name": "ipython",
    "version": 3
   },
   "file_extension": ".py",
   "mimetype": "text/x-python",
   "name": "python",
   "nbconvert_exporter": "python",
   "pygments_lexer": "ipython3",
   "version": "3.6.1"
  }
 },
 "nbformat": 4,
 "nbformat_minor": 2
}
