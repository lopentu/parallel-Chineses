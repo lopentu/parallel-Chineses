{
 "cells": [
  {
   "cell_type": "markdown",
   "metadata": {},
   "source": [
    "# [Week6] 繁簡體電影字幕中的人名差異"
   ]
  },
  {
   "cell_type": "markdown",
   "metadata": {},
   "source": [
    "## [簡介](#intro)\n",
    "## [翻譯人名常用字分析](#trans)\n",
    "## [繁簡體人名常用字分析](#natives)\n",
    "## [電影人名翻譯差異分析](#movies)\n",
    "## [討論](#discussion)"
   ]
  },
  {
   "cell_type": "code",
   "execution_count": 1,
   "metadata": {},
   "outputs": [],
   "source": [
    "%load_ext autoreload\n",
    "%autoreload 2\n",
    "%matplotlib inline"
   ]
  },
  {
   "cell_type": "code",
   "execution_count": 2,
   "metadata": {},
   "outputs": [],
   "source": [
    "import glob\n",
    "import re\n",
    "import src.cgroup_preproc as precg\n",
    "import src.name_preproc as prename\n",
    "import src.ngram_preproc as preproc\n",
    "import src.srtloader as srt\n",
    "import src.align_srt as align\n",
    "import matplotlib.pyplot as plt\n",
    "import numpy as np\n",
    "from LingPlus import ner"
   ]
  },
  {
   "cell_type": "markdown",
   "metadata": {},
   "source": [
    "# 簡介<a name=\"intro\"></a>\n",
    "\n",
    "<div style=\"font-size: large; line-height: 175%; width: 80%; margin-top:1em\">\n",
    "此專案嘗試使用常用字法來偵測並比較電影中的翻譯人名。在此方法中，我們首先分析翻譯名詞中的常用字，並以常用字的機率，來辨識文本中的人名。在翻譯名詞中，主要的資料來源是Wikipedia的繁簡對應表，其中有四份人名對應是和此辨識作業息息相關的，亦即藝人譯名、美國總統譯名、英國政治人物譯名以及人名譯名。從這些對應表中，我們分析出每個單字以及每個二字組的出現頻率，並以此出現頻率來計算一個二字組是譯名的機率。最後，將句子中連續高於一定閾值的字串當成是人名。中文姓名的資料來源則是2012年的大學入學榜單，以及大陸2014年一部份的高考榜單。偵測中文人名的方式，除資料來源不同以外，其餘皆和譯名的計算方式相同。\n",
    "\n",
    "</div>"
   ]
  },
  {
   "cell_type": "markdown",
   "metadata": {},
   "source": [
    "# 翻譯人名常用字分析<a name=\"trans\"></a>"
   ]
  },
  {
   "cell_type": "markdown",
   "metadata": {},
   "source": [
    "### 從Wikipedia讀取CGroup 資料"
   ]
  },
  {
   "cell_type": "code",
   "execution_count": 3,
   "metadata": {},
   "outputs": [
    {
     "name": "stdout",
     "output_type": "stream",
     "text": [
      "tw-cn name translation pairs loaded: 1205\n"
     ]
    }
   ],
   "source": [
    "cg_dict = {}\n",
    "for cg_path in glob.glob(\"data/cgroup/CGroup*.txt\"):\n",
    "    cg_dict.update(precg.extract_cgroup(cg_path))\n",
    "print(\"tw-cn name translation pairs loaded: %d\" % len(cg_dict))"
   ]
  },
  {
   "cell_type": "code",
   "execution_count": 4,
   "metadata": {},
   "outputs": [
    {
     "data": {
      "text/plain": [
       "[('阿基里斯', '阿喀琉斯'),\n",
       " ('艾爾', '阿尔'),\n",
       " ('亞歷', '亚历克'),\n",
       " ('艾倫', '艾伦'),\n",
       " ('亞歷克賽', '阿列克谢'),\n",
       " ('亞歷山德拉', '亚历山德拉'),\n",
       " ('亞盧夏', '阿廖沙'),\n",
       " ('阿莫多瓦', '阿尔莫多瓦尔'),\n",
       " ('阿特曼', '奥特曼'),\n",
       " ('阿瑪迪斯', '阿马德乌斯')]"
      ]
     },
     "execution_count": 4,
     "metadata": {},
     "output_type": "execute_result"
    }
   ],
   "source": [
    "iter_vals = iter(cg_dict.values())\n",
    "[next(iter_vals) for _ in range(10)]"
   ]
  },
  {
   "cell_type": "code",
   "execution_count": 5,
   "metadata": {},
   "outputs": [],
   "source": [
    "tw_bigrams = preproc.get_bigram_freq([x[0] for x in cg_dict.values()])\n",
    "cn_bigrams = preproc.get_bigram_freq([x[1] for x in cg_dict.values()])\n",
    "tw_unigrams = preproc.get_unigram_freq([x[0] for x in cg_dict.values()])\n",
    "cn_unigrams = preproc.get_unigram_freq([x[1] for x in cg_dict.values()])"
   ]
  },
  {
   "cell_type": "markdown",
   "metadata": {},
   "source": [
    "## 單雙字組頻率 - TW"
   ]
  },
  {
   "cell_type": "code",
   "execution_count": 6,
   "metadata": {},
   "outputs": [
    {
     "name": "stdout",
     "output_type": "stream",
     "text": [
      "[('斯', 269), ('克', 209), ('爾', 121), ('特', 121), ('德', 120), ('艾', 72), ('史', 70), ('拉', 69), ('莉', 67), ('森', 66)]\n",
      "[('里斯', 35), ('克里', 31), ('約翰', 21), ('克斯', 18), ('布萊', 16), ('詹姆', 16), ('麥可', 16), ('姆斯', 15), ('湯姆', 15), ('喬治', 14)]\n"
     ]
    }
   ],
   "source": [
    "preproc.print_dict_by_freq(tw_unigrams)\n",
    "preproc.print_dict_by_freq(tw_bigrams)"
   ]
  },
  {
   "cell_type": "markdown",
   "metadata": {},
   "source": [
    "## 單雙字組頻率 - CN"
   ]
  },
  {
   "cell_type": "code",
   "execution_count": 7,
   "metadata": {},
   "outputs": [
    {
     "name": "stdout",
     "output_type": "stream",
     "text": [
      "[('斯', 364), ('尔', 265), ('克', 251), ('特', 188), ('德', 173), ('里', 130), ('拉', 95), ('姆', 82), ('罗', 77), ('布', 75)]\n",
      "[('里斯', 37), ('克里', 34), ('约翰', 29), ('克尔', 28), ('姆斯', 25), ('迈克', 25), ('斯特', 24), ('克斯', 21), ('尔斯', 19), ('罗伯', 18)]\n"
     ]
    }
   ],
   "source": [
    "preproc.print_dict_by_freq(cn_unigrams)\n",
    "preproc.print_dict_by_freq(cn_bigrams)"
   ]
  },
  {
   "cell_type": "markdown",
   "metadata": {},
   "source": [
    "## 計算任意雙字組可能是人名的分數"
   ]
  },
  {
   "cell_type": "markdown",
   "metadata": {},
   "source": [
    "$$\n",
    "score(\\textrm{isName}) = p(C_1, C_2) = \\lambda \\cdot \\frac{f(C_1, C_2) + \\alpha}{Z_{(C_1, C_2)}} + \n",
    "(1-\\lambda) \\cdot \\frac{f(C_2) + \\alpha}{Z_{C_2}}\n",
    "$$\n",
    "\n",
    "where $Z_{x}$ is the normalization constant (including smoothing), $f(.)$ indicates the frequency occurred in corpus;  \n",
    "$\\alpha$ is smoothing parameter, and $\\lambda$ is interpolation parameter."
   ]
  },
  {
   "cell_type": "code",
   "execution_count": 8,
   "metadata": {},
   "outputs": [
    {
     "name": "stdout",
     "output_type": "stream",
     "text": [
      "['傑克', '麥斯']\n"
     ]
    },
    {
     "data": {
      "image/png": "[encoded data removed]",
      "text/plain": [
       "<matplotlib.figure.Figure at 0x1dd88507f60>"
      ]
     },
     "metadata": {},
     "output_type": "display_data"
    }
   ],
   "source": [
    "nd = ner.NameDetection(tw_unigrams, tw_bigrams)\n",
    "crit = nd.update_criterion([x[0] for x in cg_dict.values()], 90)\n",
    "txt = \"傑克與麥斯必須與時間賽跑\"\n",
    "prob_vec = nd.compute_transName_prob(txt)\n",
    "plt.plot(prob_vec, 'bo-')\n",
    "plt.plot([0, len(prob_vec)-1], [crit, crit], 'r--')\n",
    "print(nd.get_names(txt))"
   ]
  },
  {
   "cell_type": "markdown",
   "metadata": {
    "collapsed": true
   },
   "source": [
    "# 繁簡體人名常用字分析<a name=\"natives\"></a>"
   ]
  },
  {
   "cell_type": "markdown",
   "metadata": {},
   "source": [
    "## 讀取繁體中文姓名"
   ]
  },
  {
   "cell_type": "code",
   "execution_count": 9,
   "metadata": {},
   "outputs": [
    {
     "name": "stdout",
     "output_type": "stream",
     "text": [
      "number of tw names loaded: 59693\n"
     ]
    }
   ],
   "source": [
    "tw_names = prename.preproc_twname_data(\"data/names/2012.txt\")\n",
    "print(\"number of tw names loaded: %d\" % len(tw_names))        "
   ]
  },
  {
   "cell_type": "markdown",
   "metadata": {},
   "source": [
    "## 讀取簡體中文姓名"
   ]
  },
  {
   "cell_type": "code",
   "execution_count": 10,
   "metadata": {},
   "outputs": [
    {
     "name": "stdout",
     "output_type": "stream",
     "text": [
      "number of cn names loaded: 6924\n"
     ]
    }
   ],
   "source": [
    "cn_names = []\n",
    "for fpath in glob.glob(\"data/names/2014_cn_*.txt\"):\n",
    "    cn_names += prename.preproc_cnname_data(fpath)\n",
    "print(\"number of cn names loaded: %d\" % len(cn_names))         "
   ]
  },
  {
   "cell_type": "code",
   "execution_count": 11,
   "metadata": {},
   "outputs": [
    {
     "name": "stdout",
     "output_type": "stream",
     "text": [
      "tw family names\n",
      "['王麒雲', '沈楚柔', '楊淑雯', '關天惠', '楊琇荏', '張筱晴', '吳太一', '林家瑜', '曾鈺雯', '林雨儂']\n",
      "cn family names\n",
      "['尹娜', '张贤', '秦臻', '李真', '白婉莹', '程红', '张贺', '杨舒皓', '李新瑶', '王少莆']\n"
     ]
    }
   ],
   "source": [
    "print(\"tw family names\")    \n",
    "print(tw_names[0:10])\n",
    "print(\"cn family names\")    \n",
    "print(cn_names[0:10])"
   ]
  },
  {
   "cell_type": "code",
   "execution_count": 12,
   "metadata": {
    "collapsed": true
   },
   "outputs": [],
   "source": [
    "tw_names_unigram = preproc.get_unigram_freq(tw_names)\n",
    "tw_names_bigram = preproc.get_bigram_freq(tw_names)\n",
    "cn_names_unigram = preproc.get_unigram_freq(cn_names)\n",
    "cn_names_bigram = preproc.get_bigram_freq(cn_names)"
   ]
  },
  {
   "cell_type": "code",
   "execution_count": 13,
   "metadata": {},
   "outputs": [
    {
     "name": "stdout",
     "output_type": "stream",
     "text": [
      "[('陳', 6639), ('林', 5008), ('黃', 3807), ('張', 3179), ('李', 3164), ('王', 2434), ('吳', 2408), ('劉', 1920), ('蔡', 1634), ('楊', 1560)]\n",
      "[('王', 721), ('张', 692), ('李', 614), ('刘', 334), ('宇', 308), ('赵', 299), ('杨', 270), ('晓', 226), ('郭', 191), ('文', 169)]\n",
      "[('陳冠', 288), ('陳怡', 242), ('陳柏', 232), ('陳彥', 208), ('陳昱', 160), ('陳奕', 150), ('李佳', 141), ('林佳', 137), ('張家', 130), ('張雅', 127)]\n",
      "[('泽宇', 23), ('张晓', 23), ('王泽', 19), ('王晓', 19), ('王佳', 16), ('王宇', 16), ('张文', 15), ('杨晓', 15), ('王文', 14), ('晓宇', 13)]\n"
     ]
    }
   ],
   "source": [
    "prename.print_dict_by_freq(tw_names_unigram)\n",
    "prename.print_dict_by_freq(cn_names_unigram)\n",
    "prename.print_dict_by_freq(tw_names_bigram)\n",
    "prename.print_dict_by_freq(cn_names_bigram)"
   ]
  },
  {
   "cell_type": "code",
   "execution_count": 14,
   "metadata": {},
   "outputs": [
    {
     "name": "stdout",
     "output_type": "stream",
     "text": [
      "['陳明文']\n"
     ]
    }
   ],
   "source": [
    "zhND = ner.NameDetection(tw_names_unigram, tw_names_bigram)\n",
    "zhND.setLambda(0.2)\n",
    "crit = zhND.update_criterion(tw_names, 80)\n",
    "txt = \"立委陳明文在採訪中表示\"\n",
    "vec = zhND.compute_transName_prob(txt)\n",
    "print(zhND.get_names(txt))"
   ]
  },
  {
   "cell_type": "code",
   "execution_count": 15,
   "metadata": {},
   "outputs": [
    {
     "data": {
      "text/plain": [
       "[<matplotlib.lines.Line2D at 0x1dd88bc8c18>]"
      ]
     },
     "execution_count": 15,
     "metadata": {},
     "output_type": "execute_result"
    },
    {
     "data": {
      "image/png": "[encoded data removed]",
      "text/plain": [
       "<matplotlib.figure.Figure at 0x1dd88bc8a20>"
      ]
     },
     "metadata": {},
     "output_type": "display_data"
    }
   ],
   "source": [
    "plt.plot(vec,'bo-')\n",
    "plt.plot([0,len(vec)-1], [crit,crit], 'r--')"
   ]
  },
  {
   "cell_type": "markdown",
   "metadata": {},
   "source": [
    "# 電影人名翻譯差異分析 <a name=\"movies\"></a>"
   ]
  },
  {
   "cell_type": "code",
   "execution_count": 16,
   "metadata": {},
   "outputs": [
    {
     "name": "stdout",
     "output_type": "stream",
     "text": [
      "data/srt\\Baby_Driver_2017\\\n",
      "data/srt\\Inception_2010\\\n",
      "data/srt\\Inferno_2016\\\n",
      "data/srt\\Schindlers_List_1993\\\n",
      "data/srt\\Spider-Man_Homecoming_2017\\\n",
      "data/srt\\Wonder_Woman_2017\\\n"
     ]
    },
    {
     "data": {
      "text/plain": [
       "[('（銀行）', '亚特兰大第一银行'),\n",
       " ('（現在播放：\"喇叭褲\"）', 'JonSpencerBluesExplosion乐队喇叭裤'),\n",
       " ('手舉高趴在地上', '举起手！马上趴在地上！'),\n",
       " ('給我趴在地上，趴下', '我要你们趴在地上！趴下！'),\n",
       " ('趴下，不准動', '趴下！别动！'),\n",
       " ('快…', '走走走！'),\n",
       " ('快點…', '快走快走！'),\n",
       " ('通通不准動', '所有人不能动！'),\n",
       " ('趴下！', '所有人不能动！'),\n",
       " ('…駕駛紅色速霸陸WRX', '<i>…驾驶一辆红色速霸路WRX</i>')]"
      ]
     },
     "execution_count": 16,
     "metadata": {},
     "output_type": "execute_result"
    }
   ],
   "source": [
    "srt_aligned = []\n",
    "for srtdir in glob.glob(\"data/srt/*/\"):\n",
    "    print(srtdir)\n",
    "    tw_srt = srt.load_srt(srtdir + \"TW.srt\")\n",
    "    cn_srt = srt.load_srt(srtdir + \"CN.srt\")\n",
    "    aligned_cn_tw = align.align_srt(tw_srt, cn_srt)\n",
    "    sanitize_str = lambda x: re.sub(\"[\\s-]\", \"\", x)\n",
    "    tw_txt = (sanitize_str(x[\"text\"]) for x in tw_srt)\n",
    "    cn_txt = (sanitize_str(cn_srt[cn_i][\"text\"]) for cn_i in aligned_cn_tw)\n",
    "    srt_aligned += [(x, y) for x, y in zip(tw_txt, cn_txt)]\n",
    "\n",
    "srt_aligned[:10]"
   ]
  },
  {
   "cell_type": "code",
   "execution_count": 17,
   "metadata": {},
   "outputs": [
    {
     "data": {
      "text/plain": [
       "-9.2140179085958085"
      ]
     },
     "execution_count": 17,
     "metadata": {},
     "output_type": "execute_result"
    }
   ],
   "source": [
    "twND = ner.NameDetection(tw_unigrams, tw_bigrams)\n",
    "twND.update_criterion([x[0] for x in cg_dict.values()], 80)\n",
    "cnND = ner.NameDetection(cn_unigrams, cn_bigrams)\n",
    "cnND.update_criterion([x[0] for x in cg_dict.values()], 80)"
   ]
  },
  {
   "cell_type": "code",
   "execution_count": 18,
   "metadata": {},
   "outputs": [],
   "source": [
    "import pandas as pd\n",
    "ent_list = []\n",
    "for tw_x, cn_x in srt_aligned:\n",
    "    tw_ents = twND.get_names(tw_x)\n",
    "    cn_ents = cnND.get_names(cn_x)\n",
    "    if len(tw_ents) > 1 or len(cn_ents) > 1:\n",
    "        continue\n",
    "    if tw_ents and cn_ents:\n",
    "        ent_list.append((tw_x, tw_ents[0], cn_x, cn_ents[0]))    \n",
    "ent_mapped = pd.DataFrame(ent_list, columns=[\"TW-subs\", \"TW-ents\", \"CN-subs\", \"CN-ents\"])\n"
   ]
  },
  {
   "cell_type": "markdown",
   "metadata": {},
   "source": [
    "## 從字幕中擷取出的譯名配對"
   ]
  },
  {
   "cell_type": "code",
   "execution_count": 19,
   "metadata": {},
   "outputs": [
    {
     "data": {
      "text/html": [
       "<div>\n",
       "<style>\n",
       "    .dataframe thead tr:only-child th {\n",
       "        text-align: right;\n",
       "    }\n",
       "\n",
       "    .dataframe thead th {\n",
       "        text-align: left;\n",
       "    }\n",
       "\n",
       "    .dataframe tbody tr th {\n",
       "        vertical-align: top;\n",
       "    }\n",
       "</style>\n",
       "<table border=\"1\" class=\"dataframe\">\n",
       "  <thead>\n",
       "    <tr style=\"text-align: right;\">\n",
       "      <th></th>\n",
       "      <th></th>\n",
       "      <th>count</th>\n",
       "      <th>CN-ents</th>\n",
       "    </tr>\n",
       "    <tr>\n",
       "      <th>TW-ents</th>\n",
       "      <th>CN-ents</th>\n",
       "      <th></th>\n",
       "      <th></th>\n",
       "    </tr>\n",
       "  </thead>\n",
       "  <tbody>\n",
       "    <tr>\n",
       "      <th>丹麥</th>\n",
       "      <th>弗拉什</th>\n",
       "      <td>1</td>\n",
       "      <td>弗拉什</td>\n",
       "    </tr>\n",
       "    <tr>\n",
       "      <th>亞特蘭大</th>\n",
       "      <th>亚特兰大</th>\n",
       "      <td>5</td>\n",
       "      <td>亚特兰大</td>\n",
       "    </tr>\n",
       "    <tr>\n",
       "      <th rowspan=\"3\" valign=\"top\">亞瑟</th>\n",
       "      <th>亚瑟</th>\n",
       "      <td>7</td>\n",
       "      <td>亚瑟</td>\n",
       "    </tr>\n",
       "    <tr>\n",
       "      <th>他好</th>\n",
       "      <td>1</td>\n",
       "      <td>他好</td>\n",
       "    </tr>\n",
       "    <tr>\n",
       "      <th>哈亚瑟</th>\n",
       "      <td>1</td>\n",
       "      <td>哈亚瑟</td>\n",
       "    </tr>\n",
       "    <tr>\n",
       "      <th>亞當</th>\n",
       "      <th>好亚当</th>\n",
       "      <td>1</td>\n",
       "      <td>好亚当</td>\n",
       "    </tr>\n",
       "    <tr>\n",
       "      <th rowspan=\"3\" valign=\"top\">亞馬遜</th>\n",
       "      <th>亚马逊人</th>\n",
       "      <td>6</td>\n",
       "      <td>亚马逊人</td>\n",
       "    </tr>\n",
       "    <tr>\n",
       "      <th>亚马逊女王</th>\n",
       "      <td>1</td>\n",
       "      <td>亚马逊女王</td>\n",
       "    </tr>\n",
       "    <tr>\n",
       "      <th>他和亚马逊女王</th>\n",
       "      <td>1</td>\n",
       "      <td>他和亚马逊女王</td>\n",
       "    </tr>\n",
       "    <tr>\n",
       "      <th>伊姆斯</th>\n",
       "      <th>伊姆斯</th>\n",
       "      <td>5</td>\n",
       "      <td>伊姆斯</td>\n",
       "    </tr>\n",
       "    <tr>\n",
       "      <th rowspan=\"3\" valign=\"top\">伊斯坦</th>\n",
       "      <th>伊斯坦布尔</th>\n",
       "      <td>2</td>\n",
       "      <td>伊斯坦布尔</td>\n",
       "    </tr>\n",
       "    <tr>\n",
       "      <th>伊斯坦布尔大</th>\n",
       "      <td>1</td>\n",
       "      <td>伊斯坦布尔大</td>\n",
       "    </tr>\n",
       "    <tr>\n",
       "      <th>伊斯坦布尔大街</th>\n",
       "      <td>1</td>\n",
       "      <td>伊斯坦布尔大街</td>\n",
       "    </tr>\n",
       "    <tr>\n",
       "      <th>伊斯梅爾</th>\n",
       "      <th>伊斯梅尔</th>\n",
       "      <td>1</td>\n",
       "      <td>伊斯梅尔</td>\n",
       "    </tr>\n",
       "    <tr>\n",
       "      <th>伊格納</th>\n",
       "      <th>伊格纳奇奥</th>\n",
       "      <td>8</td>\n",
       "      <td>伊格纳奇奥</td>\n",
       "    </tr>\n",
       "    <tr>\n",
       "      <th>伊瑪</th>\n",
       "      <th>伊玛依</th>\n",
       "      <td>2</td>\n",
       "      <td>伊玛依</td>\n",
       "    </tr>\n",
       "    <tr>\n",
       "      <th>伊莉莎白</th>\n",
       "      <th>伊丽莎白</th>\n",
       "      <td>6</td>\n",
       "      <td>伊丽莎白</td>\n",
       "    </tr>\n",
       "    <tr>\n",
       "      <th rowspan=\"2\" valign=\"top\">佛羅倫斯</th>\n",
       "      <th>丁热爱佛罗伦萨</th>\n",
       "      <td>1</td>\n",
       "      <td>丁热爱佛罗伦萨</td>\n",
       "    </tr>\n",
       "    <tr>\n",
       "      <th>佛罗伦萨</th>\n",
       "      <td>5</td>\n",
       "      <td>佛罗伦萨</td>\n",
       "    </tr>\n",
       "    <tr>\n",
       "      <th>傑克</th>\n",
       "      <th>杰克后</th>\n",
       "      <td>1</td>\n",
       "      <td>杰克后</td>\n",
       "    </tr>\n",
       "  </tbody>\n",
       "</table>\n",
       "</div>"
      ],
      "text/plain": [
       "                 count  CN-ents\n",
       "TW-ents CN-ents                \n",
       "丹麥      弗拉什          1      弗拉什\n",
       "亞特蘭大    亚特兰大         5     亚特兰大\n",
       "亞瑟      亚瑟           7       亚瑟\n",
       "        他好           1       他好\n",
       "        哈亚瑟          1      哈亚瑟\n",
       "亞當      好亚当          1      好亚当\n",
       "亞馬遜     亚马逊人         6     亚马逊人\n",
       "        亚马逊女王        1    亚马逊女王\n",
       "        他和亚马逊女王      1  他和亚马逊女王\n",
       "伊姆斯     伊姆斯          5      伊姆斯\n",
       "伊斯坦     伊斯坦布尔        2    伊斯坦布尔\n",
       "        伊斯坦布尔大       1   伊斯坦布尔大\n",
       "        伊斯坦布尔大街      1  伊斯坦布尔大街\n",
       "伊斯梅爾    伊斯梅尔         1     伊斯梅尔\n",
       "伊格納     伊格纳奇奥        8    伊格纳奇奥\n",
       "伊瑪      伊玛依          2      伊玛依\n",
       "伊莉莎白    伊丽莎白         6     伊丽莎白\n",
       "佛羅倫斯    丁热爱佛罗伦萨      1  丁热爱佛罗伦萨\n",
       "        佛罗伦萨         5     佛罗伦萨\n",
       "傑克      杰克后          1      杰克后"
      ]
     },
     "execution_count": 19,
     "metadata": {},
     "output_type": "execute_result"
    }
   ],
   "source": [
    "ent_pairs = ent_mapped.groupby([\"TW-ents\", \"CN-ents\"]).count()\n",
    "ent_pairs['CN-ents'] = [x[1] for x in ent_pairs.index.values]\n",
    "ent_pairs = ent_pairs.drop('CN-subs', axis=1)\n",
    "ent_pairs.columns = ['count', 'CN-ents']\n",
    "ent_pairs.iloc[:20, :]"
   ]
  },
  {
   "cell_type": "markdown",
   "metadata": {},
   "source": [
    "## 在每個繁體人名中，僅選取一個出現次數最高的簡體對應"
   ]
  },
  {
   "cell_type": "code",
   "execution_count": 20,
   "metadata": {},
   "outputs": [
    {
     "data": {
      "text/html": [
       "<div>\n",
       "<style>\n",
       "    .dataframe thead tr:only-child th {\n",
       "        text-align: right;\n",
       "    }\n",
       "\n",
       "    .dataframe thead th {\n",
       "        text-align: left;\n",
       "    }\n",
       "\n",
       "    .dataframe tbody tr th {\n",
       "        vertical-align: top;\n",
       "    }\n",
       "</style>\n",
       "<table border=\"1\" class=\"dataframe\">\n",
       "  <thead>\n",
       "    <tr style=\"text-align: right;\">\n",
       "      <th></th>\n",
       "      <th>CN-ents</th>\n",
       "      <th>count</th>\n",
       "    </tr>\n",
       "    <tr>\n",
       "      <th>TW-ents</th>\n",
       "      <th></th>\n",
       "      <th></th>\n",
       "    </tr>\n",
       "  </thead>\n",
       "  <tbody>\n",
       "    <tr>\n",
       "      <th>黛安娜</th>\n",
       "      <td>戴安娜</td>\n",
       "      <td>40</td>\n",
       "    </tr>\n",
       "    <tr>\n",
       "      <th>東西</th>\n",
       "      <td>东西</td>\n",
       "      <td>28</td>\n",
       "    </tr>\n",
       "    <tr>\n",
       "      <th>阿瑞斯</th>\n",
       "      <td>阿瑞斯</td>\n",
       "      <td>20</td>\n",
       "    </tr>\n",
       "    <tr>\n",
       "      <th>蘭登</th>\n",
       "      <td>兰登</td>\n",
       "      <td>17</td>\n",
       "    </tr>\n",
       "    <tr>\n",
       "      <th>柯柏</th>\n",
       "      <td>柯布</td>\n",
       "      <td>16</td>\n",
       "    </tr>\n",
       "    <tr>\n",
       "      <th>史提夫</th>\n",
       "      <td>史蒂夫</td>\n",
       "      <td>11</td>\n",
       "    </tr>\n",
       "    <tr>\n",
       "      <th>斯特恩</th>\n",
       "      <td>斯特恩</td>\n",
       "      <td>10</td>\n",
       "    </tr>\n",
       "    <tr>\n",
       "      <th>布里斯特</th>\n",
       "      <td>佐布里斯特</td>\n",
       "      <td>10</td>\n",
       "    </tr>\n",
       "    <tr>\n",
       "      <th>彼得</th>\n",
       "      <td>彼得</td>\n",
       "      <td>8</td>\n",
       "    </tr>\n",
       "    <tr>\n",
       "      <th>伊格納</th>\n",
       "      <td>伊格纳奇奥</td>\n",
       "      <td>8</td>\n",
       "    </tr>\n",
       "    <tr>\n",
       "      <th>亞瑟</th>\n",
       "      <td>亚瑟</td>\n",
       "      <td>7</td>\n",
       "    </tr>\n",
       "    <tr>\n",
       "      <th>奧斯卡</th>\n",
       "      <td>奥斯卡</td>\n",
       "      <td>7</td>\n",
       "    </tr>\n",
       "    <tr>\n",
       "      <th>羅勃</th>\n",
       "      <td>罗伯特</td>\n",
       "      <td>7</td>\n",
       "    </tr>\n",
       "    <tr>\n",
       "      <th>海倫</th>\n",
       "      <td>海伦</td>\n",
       "      <td>6</td>\n",
       "    </tr>\n",
       "    <tr>\n",
       "      <th>查理</th>\n",
       "      <td>查理</td>\n",
       "      <td>6</td>\n",
       "    </tr>\n",
       "    <tr>\n",
       "      <th>伊莉莎白</th>\n",
       "      <td>伊丽莎白</td>\n",
       "      <td>6</td>\n",
       "    </tr>\n",
       "    <tr>\n",
       "      <th>魯登</th>\n",
       "      <td>鲁登道夫</td>\n",
       "      <td>6</td>\n",
       "    </tr>\n",
       "    <tr>\n",
       "      <th>普拉</th>\n",
       "      <td>普拉</td>\n",
       "      <td>6</td>\n",
       "    </tr>\n",
       "    <tr>\n",
       "      <th>安提奧</th>\n",
       "      <td>安提</td>\n",
       "      <td>6</td>\n",
       "    </tr>\n",
       "    <tr>\n",
       "      <th>亞馬遜</th>\n",
       "      <td>亚马逊人</td>\n",
       "      <td>6</td>\n",
       "    </tr>\n",
       "    <tr>\n",
       "      <th>查爾斯</th>\n",
       "      <td>查尔斯先</td>\n",
       "      <td>6</td>\n",
       "    </tr>\n",
       "    <tr>\n",
       "      <th>羅柏</th>\n",
       "      <td>罗伯特</td>\n",
       "      <td>5</td>\n",
       "    </tr>\n",
       "    <tr>\n",
       "      <th>辛德勒</th>\n",
       "      <td>辛德勒</td>\n",
       "      <td>5</td>\n",
       "    </tr>\n",
       "    <tr>\n",
       "      <th>亞特蘭大</th>\n",
       "      <td>亚特兰大</td>\n",
       "      <td>5</td>\n",
       "    </tr>\n",
       "    <tr>\n",
       "      <th>伊姆斯</th>\n",
       "      <td>伊姆斯</td>\n",
       "      <td>5</td>\n",
       "    </tr>\n",
       "    <tr>\n",
       "      <th>佛羅倫斯</th>\n",
       "      <td>佛罗伦萨</td>\n",
       "      <td>5</td>\n",
       "    </tr>\n",
       "    <tr>\n",
       "      <th>奧斯威辛</th>\n",
       "      <td>奥斯威辛</td>\n",
       "      <td>5</td>\n",
       "    </tr>\n",
       "    <tr>\n",
       "      <th>波蘭</th>\n",
       "      <td>波兰</td>\n",
       "      <td>4</td>\n",
       "    </tr>\n",
       "    <tr>\n",
       "      <th>米拉</th>\n",
       "      <td>米拉</td>\n",
       "      <td>4</td>\n",
       "    </tr>\n",
       "    <tr>\n",
       "      <th>詹姆斯</th>\n",
       "      <td>詹姆斯</td>\n",
       "      <td>4</td>\n",
       "    </tr>\n",
       "    <tr>\n",
       "      <th>...</th>\n",
       "      <td>...</td>\n",
       "      <td>...</td>\n",
       "    </tr>\n",
       "    <tr>\n",
       "      <th>山姆</th>\n",
       "      <td>山姆</td>\n",
       "      <td>3</td>\n",
       "    </tr>\n",
       "    <tr>\n",
       "      <th>強納森</th>\n",
       "      <td>乔纳森</td>\n",
       "      <td>3</td>\n",
       "    </tr>\n",
       "    <tr>\n",
       "      <th>莫瑞斯費雪</th>\n",
       "      <td>莫里斯</td>\n",
       "      <td>3</td>\n",
       "    </tr>\n",
       "    <tr>\n",
       "      <th>艾米麗</th>\n",
       "      <td>艾米丽</td>\n",
       "      <td>2</td>\n",
       "    </tr>\n",
       "    <tr>\n",
       "      <th>伊瑪</th>\n",
       "      <td>伊玛依</td>\n",
       "      <td>2</td>\n",
       "    </tr>\n",
       "    <tr>\n",
       "      <th>貝克</th>\n",
       "      <td>贝克</td>\n",
       "      <td>2</td>\n",
       "    </tr>\n",
       "    <tr>\n",
       "      <th>伊斯坦</th>\n",
       "      <td>伊斯坦布尔</td>\n",
       "      <td>2</td>\n",
       "    </tr>\n",
       "    <tr>\n",
       "      <th>西姆斯</th>\n",
       "      <td>辛姆斯先</td>\n",
       "      <td>2</td>\n",
       "    </tr>\n",
       "    <tr>\n",
       "      <th>麗茲</th>\n",
       "      <td>莉兹</td>\n",
       "      <td>2</td>\n",
       "    </tr>\n",
       "    <tr>\n",
       "      <th>傑森</th>\n",
       "      <td>杰森</td>\n",
       "      <td>2</td>\n",
       "    </tr>\n",
       "    <tr>\n",
       "      <th>菲莉</th>\n",
       "      <td>菲丽帕</td>\n",
       "      <td>2</td>\n",
       "    </tr>\n",
       "    <tr>\n",
       "      <th>菲亞大</th>\n",
       "      <td>圣索菲亚大</td>\n",
       "      <td>2</td>\n",
       "    </tr>\n",
       "    <tr>\n",
       "      <th>瓦薩里</th>\n",
       "      <td>瓦萨里</td>\n",
       "      <td>2</td>\n",
       "    </tr>\n",
       "    <tr>\n",
       "      <th>艾塔</th>\n",
       "      <td>艾塔</td>\n",
       "      <td>2</td>\n",
       "    </tr>\n",
       "    <tr>\n",
       "      <th>爾斯</th>\n",
       "      <td>迈尔斯</td>\n",
       "      <td>2</td>\n",
       "    </tr>\n",
       "    <tr>\n",
       "      <th>布魯克</th>\n",
       "      <td>布鲁克斯</td>\n",
       "      <td>2</td>\n",
       "    </tr>\n",
       "    <tr>\n",
       "      <th>希特勒</th>\n",
       "      <td>希特勒万</td>\n",
       "      <td>2</td>\n",
       "    </tr>\n",
       "    <tr>\n",
       "      <th>拉史</th>\n",
       "      <td>芭芭拉史</td>\n",
       "      <td>2</td>\n",
       "    </tr>\n",
       "    <tr>\n",
       "      <th>尼亞</th>\n",
       "      <td>亚美尼亚</td>\n",
       "      <td>2</td>\n",
       "    </tr>\n",
       "    <tr>\n",
       "      <th>柏林</th>\n",
       "      <td>柏林</td>\n",
       "      <td>2</td>\n",
       "    </tr>\n",
       "    <tr>\n",
       "      <th>大多</th>\n",
       "      <td>大多</td>\n",
       "      <td>2</td>\n",
       "    </tr>\n",
       "    <tr>\n",
       "      <th>爾曼</th>\n",
       "      <td>帕尔曼</td>\n",
       "      <td>2</td>\n",
       "    </tr>\n",
       "    <tr>\n",
       "      <th>胡卡</th>\n",
       "      <td>胡卡</td>\n",
       "      <td>2</td>\n",
       "    </tr>\n",
       "    <tr>\n",
       "      <th>珍妮</th>\n",
       "      <td>珍妮</td>\n",
       "      <td>2</td>\n",
       "    </tr>\n",
       "    <tr>\n",
       "      <th>瑟夫</th>\n",
       "      <td>尤瑟夫</td>\n",
       "      <td>2</td>\n",
       "    </tr>\n",
       "    <tr>\n",
       "      <th>瑪麗</th>\n",
       "      <td>玛丽</td>\n",
       "      <td>2</td>\n",
       "    </tr>\n",
       "    <tr>\n",
       "      <th>史塔克</th>\n",
       "      <td>好耶</td>\n",
       "      <td>2</td>\n",
       "    </tr>\n",
       "    <tr>\n",
       "      <th>羅勃費雪</th>\n",
       "      <td>罗伯特</td>\n",
       "      <td>2</td>\n",
       "    </tr>\n",
       "    <tr>\n",
       "      <th>克拉科夫</th>\n",
       "      <td>克拉科夫</td>\n",
       "      <td>2</td>\n",
       "    </tr>\n",
       "    <tr>\n",
       "      <th>黛比</th>\n",
       "      <td>黛比黛博拉</td>\n",
       "      <td>2</td>\n",
       "    </tr>\n",
       "  </tbody>\n",
       "</table>\n",
       "<p>71 rows × 2 columns</p>\n",
       "</div>"
      ],
      "text/plain": [
       "        CN-ents  count\n",
       "TW-ents               \n",
       "黛安娜         戴安娜     40\n",
       "東西           东西     28\n",
       "阿瑞斯         阿瑞斯     20\n",
       "蘭登           兰登     17\n",
       "柯柏           柯布     16\n",
       "史提夫         史蒂夫     11\n",
       "斯特恩         斯特恩     10\n",
       "布里斯特      佐布里斯特     10\n",
       "彼得           彼得      8\n",
       "伊格納       伊格纳奇奥      8\n",
       "亞瑟           亚瑟      7\n",
       "奧斯卡         奥斯卡      7\n",
       "羅勃          罗伯特      7\n",
       "海倫           海伦      6\n",
       "查理           查理      6\n",
       "伊莉莎白       伊丽莎白      6\n",
       "魯登         鲁登道夫      6\n",
       "普拉           普拉      6\n",
       "安提奧          安提      6\n",
       "亞馬遜        亚马逊人      6\n",
       "查爾斯        查尔斯先      6\n",
       "羅柏          罗伯特      5\n",
       "辛德勒         辛德勒      5\n",
       "亞特蘭大       亚特兰大      5\n",
       "伊姆斯         伊姆斯      5\n",
       "佛羅倫斯       佛罗伦萨      5\n",
       "奧斯威辛       奥斯威辛      5\n",
       "波蘭           波兰      4\n",
       "米拉           米拉      4\n",
       "詹姆斯         詹姆斯      4\n",
       "...         ...    ...\n",
       "山姆           山姆      3\n",
       "強納森         乔纳森      3\n",
       "莫瑞斯費雪       莫里斯      3\n",
       "艾米麗         艾米丽      2\n",
       "伊瑪          伊玛依      2\n",
       "貝克           贝克      2\n",
       "伊斯坦       伊斯坦布尔      2\n",
       "西姆斯        辛姆斯先      2\n",
       "麗茲           莉兹      2\n",
       "傑森           杰森      2\n",
       "菲莉          菲丽帕      2\n",
       "菲亞大       圣索菲亚大      2\n",
       "瓦薩里         瓦萨里      2\n",
       "艾塔           艾塔      2\n",
       "爾斯          迈尔斯      2\n",
       "布魯克        布鲁克斯      2\n",
       "希特勒        希特勒万      2\n",
       "拉史         芭芭拉史      2\n",
       "尼亞         亚美尼亚      2\n",
       "柏林           柏林      2\n",
       "大多           大多      2\n",
       "爾曼          帕尔曼      2\n",
       "胡卡           胡卡      2\n",
       "珍妮           珍妮      2\n",
       "瑟夫          尤瑟夫      2\n",
       "瑪麗           玛丽      2\n",
       "史塔克          好耶      2\n",
       "羅勃費雪        罗伯特      2\n",
       "克拉科夫       克拉科夫      2\n",
       "黛比        黛比黛博拉      2\n",
       "\n",
       "[71 rows x 2 columns]"
      ]
     },
     "execution_count": 20,
     "metadata": {},
     "output_type": "execute_result"
    }
   ],
   "source": [
    "ent_proc = ent_pairs.sort_values('count', ascending=False).groupby(['TW-ents']).first()\n",
    "ent_proc = ent_proc[[\"CN-ents\", 'count']]\n",
    "ent_proc = ent_proc.loc[ent_proc[\"count\"]>1,:]\n",
    "ent_proc.sort_values('count', ascending=False)\n"
   ]
  },
  {
   "cell_type": "markdown",
   "metadata": {},
   "source": [
    "# 討論 <a name=\"discussion\"></a>\n",
    "\n",
    "* 即便是一個簡單的常用字機率模型，經過一些限制（constraints）後，仍然可以發現繁簡體人名翻譯的不同。\n",
    "* 從上述對應表中，很明顯的觀察到幾個可改善的地方。例如，「東西」被錯誤的當成人名，這可能來自於「東」和「西」各字都是翻譯常用字（安東尼、潔西卡等）。有些譯名則被截斷或有些字錯誤的被當作人名。\n",
    "* 這些錯誤可能大部分來自於常用字方法將每個字視為獨立的成分，失去很多的脈絡訊息。\n",
    "* 由於這些電影中沒有中文人名，所以並未使用到中文人名偵測。而事實上中文人名從某個角度上比翻譯人名複雜，因為中文人名中的姓和名應有相依性，亦即一個字被當成姓，會暗示後面的一或兩個字應該要是人名。但這個訊息是常用字方法無法觸及的。"
   ]
  },
  {
   "cell_type": "markdown",
   "metadata": {},
   "source": [
    "# Appendix: 繁簡體常用姓氏"
   ]
  },
  {
   "cell_type": "markdown",
   "metadata": {},
   "source": [
    "## preprocess family names (tw/cn)"
   ]
  },
  {
   "cell_type": "code",
   "execution_count": 21,
   "metadata": {},
   "outputs": [],
   "source": [
    "from bs4 import BeautifulSoup\n",
    "def load_family_names(wikipath):\n",
    "    with open(wikipath, \"r\", encoding=\"UTF-8\") as fin:\n",
    "        tree = BeautifulSoup(fin, \"lxml\")\n",
    "    fnames_elem = tree.select(\"table.wikitable p a['title']\")\n",
    "    fnames = [x.text for x in fnames_elem]\n",
    "    return(fnames)\n",
    "tw_family_names = load_family_names(\"data/names/tw_last_names.html\")\n",
    "cn_family_names = load_family_names(\"data/names/cn_last_names.html\")"
   ]
  },
  {
   "cell_type": "code",
   "execution_count": 22,
   "metadata": {},
   "outputs": [
    {
     "name": "stdout",
     "output_type": "stream",
     "text": [
      "['趙', '錢', '孫', '李', '周', '吳', '鄭', '王', '馮', '陳', '褚', '衛', '蔣', '沈', '韓', '楊', '朱', '秦', '尤', '許']\n",
      "['赵', '钱', '孙', '李', '周', '吴', '郑', '王', '冯', '陈', '褚', '卫', '蒋', '沈', '韩', '杨', '朱', '秦', '尤', '许']\n"
     ]
    }
   ],
   "source": [
    "print(tw_family_names[:20])\n",
    "print(cn_family_names[:20])"
   ]
  },
  {
   "cell_type": "code",
   "execution_count": 23,
   "metadata": {
    "collapsed": true
   },
   "outputs": [],
   "source": [
    "def compute_family_name_freq(names, fnames):\n",
    "    fn_dict = {}\n",
    "    name_list = []\n",
    "    fnames = sorted(fnames, key=lambda x: len(x), reverse=True)\n",
    "    for name_x in names:\n",
    "        for fn_x in fnames:\n",
    "            if not name_x.startswith(fn_x): continue\n",
    "            # ignore the cases where whole name euqal to family names\n",
    "            # they might be ligit names, but skip them for now\n",
    "            if len(name_x) == len(fn_x): continue\n",
    "            fn_dict[fn_x] = fn_dict.get(fn_x, 0) + 1            \n",
    "            name_list.append(name_x[len(fn_x):])\n",
    "            break\n",
    "    return name_list, fn_dict\n",
    "cn_first_names, cn_family_names_freq = compute_family_name_freq(cn_names, cn_family_names)\n",
    "tw__first_names, tw_family_names_freq = compute_family_name_freq(tw_names, tw_family_names)"
   ]
  },
  {
   "cell_type": "code",
   "execution_count": 24,
   "metadata": {},
   "outputs": [
    {
     "name": "stdout",
     "output_type": "stream",
     "text": [
      "[('陳', 6628), ('林', 4950), ('黃', 3799), ('張', 3173), ('李', 3159), ('王', 2422), ('吳', 2405), ('劉', 1916), ('蔡', 1632), ('楊', 1551)]\n",
      "[('王', 719), ('张', 690), ('李', 608), ('刘', 333), ('赵', 296), ('杨', 255), ('郭', 190), ('陈', 129), ('马', 124), ('高', 124)]\n"
     ]
    }
   ],
   "source": [
    "preproc.print_dict_by_freq(tw_family_names_freq)\n",
    "preproc.print_dict_by_freq(cn_family_names_freq)"
   ]
  },
  {
   "cell_type": "code",
   "execution_count": null,
   "metadata": {
    "collapsed": true
   },
   "outputs": [],
   "source": []
  }
 ],
 "metadata": {
  "kernelspec": {
   "display_name": "Python 3",
   "language": "python",
   "name": "python3"
  },
  "language_info": {
   "codemirror_mode": {
    "name": "ipython",
    "version": 3
   },
   "file_extension": ".py",
   "mimetype": "text/x-python",
   "name": "python",
   "nbconvert_exporter": "python",
   "pygments_lexer": "ipython3",
   "version": "3.6.1"
  }
 },
 "nbformat": 4,
 "nbformat_minor": 2
}
